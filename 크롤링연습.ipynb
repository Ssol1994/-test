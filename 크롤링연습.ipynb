{
 "cells": [
  {
   "cell_type": "code",
   "execution_count": 1,
   "id": "2d4c425e",
   "metadata": {},
   "outputs": [],
   "source": [
    "#pip install beautifulsoup4"
   ]
  },
  {
   "cell_type": "code",
   "execution_count": 2,
   "id": "0ecb9027",
   "metadata": {},
   "outputs": [],
   "source": [
    "#pip install webdriver_manager"
   ]
  },
  {
   "cell_type": "code",
   "execution_count": null,
   "id": "385bc288",
   "metadata": {},
   "outputs": [],
   "source": []
  },
  {
   "cell_type": "code",
   "execution_count": 3,
   "id": "4e3b3fec",
   "metadata": {},
   "outputs": [],
   "source": [
    "from selenium import webdriver\n",
    "from webdriver_manager.chrome import ChromeDriverManager"
   ]
  },
  {
   "cell_type": "code",
   "execution_count": 4,
   "id": "d37efea9",
   "metadata": {},
   "outputs": [],
   "source": [
    "from selenium import webdriver\n",
    "from selenium.webdriver.support.ui import Select\n",
    "import time\n",
    "from selenium.webdriver.common.keys import Keys"
   ]
  },
  {
   "cell_type": "code",
   "execution_count": 7,
   "id": "f96c45e8",
   "metadata": {},
   "outputs": [
    {
     "name": "stdout",
     "output_type": "stream",
     "text": [
      "++++++++++++++++++++++++++++++++++++++++++++++++++\n",
      "신한생명\n",
      "http://shinhan.haezone.com/inSaju.asp?bType=A104&resize=#menuIndex3\n",
      "사주팔자 내 운명의 배우자 크롤링\n",
      "--------------------------------------------------\n"
     ]
    },
    {
     "ename": "NameError",
     "evalue": "name 'html' is not defined",
     "output_type": "error",
     "traceback": [
      "\u001b[1;31m---------------------------------------------------------------------------\u001b[0m",
      "\u001b[1;31mNameError\u001b[0m                                 Traceback (most recent call last)",
      "\u001b[1;32m<ipython-input-7-690092b0c6e6>\u001b[0m in \u001b[0;36m<module>\u001b[1;34m\u001b[0m\n\u001b[0;32m     50\u001b[0m \u001b[1;33m\u001b[0m\u001b[0m\n\u001b[0;32m     51\u001b[0m \u001b[1;33m\u001b[0m\u001b[0m\n\u001b[1;32m---> 52\u001b[1;33m \u001b[0msoup\u001b[0m \u001b[1;33m=\u001b[0m \u001b[0mBeautifulSoup\u001b[0m\u001b[1;33m(\u001b[0m\u001b[0mhtml\u001b[0m\u001b[1;33m,\u001b[0m \u001b[1;34m'html.parser'\u001b[0m\u001b[1;33m)\u001b[0m\u001b[1;33m\u001b[0m\u001b[1;33m\u001b[0m\u001b[0m\n\u001b[0m\u001b[0;32m     53\u001b[0m \u001b[0mtitle\u001b[0m \u001b[1;33m=\u001b[0m \u001b[0msoup\u001b[0m\u001b[1;33m.\u001b[0m\u001b[0mselect_one\u001b[0m\u001b[1;33m(\u001b[0m\u001b[1;34m'//*[@id=\"ConsResult\"]/div[3]/p/text()[1]'\u001b[0m\u001b[1;33m)\u001b[0m\u001b[1;33m\u001b[0m\u001b[1;33m\u001b[0m\u001b[0m\n\u001b[0;32m     54\u001b[0m \u001b[0mprint\u001b[0m\u001b[1;33m(\u001b[0m\u001b[0mtitle\u001b[0m\u001b[1;33m)\u001b[0m\u001b[1;33m\u001b[0m\u001b[1;33m\u001b[0m\u001b[0m\n",
      "\u001b[1;31mNameError\u001b[0m: name 'html' is not defined"
     ]
    }
   ],
   "source": [
    "driver = webdriver.Chrome(executable_path='C:\\sol\\chromedriver.exe')\n",
    "driver.implicitly_wait(1)\n",
    "driver.get('http://shinhan.haezone.com/inSaju.asp?bType=A104&resize=#menuIndex3')\n",
    "driver.implicitly_wait(1)\n",
    "\n",
    "print(\"+\" * 50)\n",
    "print(driver.title)\n",
    "print(driver.current_url)\n",
    "print(\"사주팔자 내 운명의 배우자 크롤링\")\n",
    "print(\"-\" * 50)\n",
    "\n",
    "# 신한카드 운세 '내 운명의 배우자' 클릭\n",
    "sinhan = driver.find_element_by_css_selector(\"#wrap > div.top_nav.marT20 > ul > li:nth-child(3) > ul > li:nth-child(5) > a\")\n",
    "sinhan.click()\n",
    "\n",
    "time.sleep(3)\n",
    "\n",
    "# 성별 선택자\n",
    "select_sex = Select(driver.find_element_by_name('bSex'))\n",
    "select_sex.select_by_index(index=0)\n",
    "#select.select_by_visible_text(text=\"option_text\")\n",
    "#select.select_by_value(value='고리오')\n",
    "\n",
    "#생년\n",
    "select_year = Select(driver.find_element_by_name('bYear'))\n",
    "select_year.select_by_value(value='1994')\n",
    "#월\n",
    "select_month = Select(driver.find_element_by_name('bMonth'))\n",
    "select_month.select_by_value(value='11')\n",
    "#일\n",
    "select_day = Select(driver.find_element_by_name('bDay'))\n",
    "select_day.select_by_value(value='8')\n",
    "\n",
    "#태어난시간\n",
    "select_hour = Select(driver.find_element_by_name('bHour'))\n",
    "select_hour.select_by_index(index=6)\n",
    "# 0,1,4,5,6,7,10 / 2,3,8,9,11 / 12\n",
    "\n",
    "#양력/음력\n",
    "select_lunar = Select(driver.find_element_by_name('bLunar'))\n",
    "select_lunar.select_by_index(index=0)\n",
    "\n",
    "#운세보기 클릭\n",
    "fortune = driver.find_element_by_xpath('//*[@id=\"wrap2\"]/form/div/div[2]/div/div/input')\n",
    "fortune.click()\n",
    "\n",
    "# 웹 크롤링\n",
    "import requests\n",
    "from bs4 import BeautifulSoup\n",
    "\n",
    "\n",
    "soup = BeautifulSoup(html, 'html.parser')\n",
    "title = soup.select_one('//*[@id=\"ConsResult\"]/div[3]/p/text()[1]')\n",
    "print(title)\n",
    "\n",
    "    "
   ]
  },
  {
   "cell_type": "code",
   "execution_count": null,
   "id": "45bc5c9b",
   "metadata": {},
   "outputs": [],
   "source": []
  },
  {
   "cell_type": "code",
   "execution_count": null,
   "id": "f2ea9314",
   "metadata": {},
   "outputs": [],
   "source": [
    "\n"
   ]
  },
  {
   "cell_type": "code",
   "execution_count": null,
   "id": "9643ed44",
   "metadata": {},
   "outputs": [],
   "source": []
  }
 ],
 "metadata": {
  "kernelspec": {
   "display_name": "Python 3",
   "language": "python",
   "name": "python3"
  },
  "language_info": {
   "codemirror_mode": {
    "name": "ipython",
    "version": 3
   },
   "file_extension": ".py",
   "mimetype": "text/x-python",
   "name": "python",
   "nbconvert_exporter": "python",
   "pygments_lexer": "ipython3",
   "version": "3.8.8"
  }
 },
 "nbformat": 4,
 "nbformat_minor": 5
}
