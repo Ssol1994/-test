{
 "cells": [
  {
   "cell_type": "code",
   "execution_count": 1,
   "id": "6ea9f884",
   "metadata": {},
   "outputs": [],
   "source": [
    "#pip install beautifulsoup4"
   ]
  },
  {
   "cell_type": "code",
   "execution_count": 2,
   "id": "a3716a42",
   "metadata": {},
   "outputs": [],
   "source": [
    "#pip install webdriver_manager"
   ]
  },
  {
   "cell_type": "code",
   "execution_count": 1,
   "id": "b3e1de9d",
   "metadata": {},
   "outputs": [],
   "source": [
    "import requests\n",
    "from bs4 import BeautifulSoup as bs\n",
    "import pandas as pd\n",
    "from tqdm import trange"
   ]
  },
  {
   "cell_type": "code",
   "execution_count": 2,
   "id": "637412f3",
   "metadata": {},
   "outputs": [],
   "source": [
    "from selenium import webdriver\n",
    "from webdriver_manager.chrome import ChromeDriverManager"
   ]
  },
  {
   "cell_type": "code",
   "execution_count": 3,
   "id": "74ab835c",
   "metadata": {},
   "outputs": [],
   "source": [
    "from selenium import webdriver\n",
    "from selenium.webdriver.support.ui import Select\n",
    "import time\n",
    "from selenium.webdriver.common.keys import Keys\n"
   ]
  },
  {
   "cell_type": "code",
   "execution_count": 4,
   "id": "6a3ff446",
   "metadata": {},
   "outputs": [
    {
     "name": "stdout",
     "output_type": "stream",
     "text": [
      "++++++++++++++++++++++++++++++++++++++++++++++++++\n",
      "신한생명\n",
      "http://shinhan.haezone.com/inSaju.asp?bType=A104&resize=#menuIndex3\n",
      "사주팔자 내 운명의 배우자 크롤링\n",
      "--------------------------------------------------\n",
      "외모\n",
      "====================================================================================================\n",
      "[<selenium.webdriver.remote.webelement.WebElement (session=\"105713cdbef288dd93c8190a2a5f6509\", element=\"df1d732b-71bd-46f1-9873-bc95ee80c60d\")>]\n",
      "====================================================================================================\n",
      "성격\n",
      "====================================================================================================\n",
      "[<selenium.webdriver.remote.webelement.WebElement (session=\"105713cdbef288dd93c8190a2a5f6509\", element=\"205382fc-f918-4aa5-8cba-f7430548edfe\")>]\n",
      "====================================================================================================\n"
     ]
    }
   ],
   "source": [
    "driver = webdriver.Chrome(executable_path='C:\\sol\\chromedriver.exe')\n",
    "driver.implicitly_wait(1)\n",
    "driver.get('http://shinhan.haezone.com/inSaju.asp?bType=A104&resize=#menuIndex3')\n",
    "driver.implicitly_wait(1)\n",
    "\n",
    "print(\"+\" * 50)\n",
    "print(driver.title)\n",
    "print(driver.current_url)\n",
    "print(\"사주팔자 내 운명의 배우자 크롤링\")\n",
    "print(\"-\" * 50)\n",
    "\n",
    "# 신한카드 운세 '내 운명의 배우자' 클릭\n",
    "sinhan = driver.find_element_by_css_selector(\"#wrap > div.top_nav.marT20 > ul > li:nth-child(3) > ul > li:nth-child(5) > a\")\n",
    "sinhan.click()\n",
    "\n",
    "time.sleep(3)\n",
    "\n",
    "# 성별 선택자\n",
    "select_sex = Select(driver.find_element_by_name('bSex'))\n",
    "select_sex.select_by_index(index=0)\n",
    "#select.select_by_visible_text(text=\"option_text\")\n",
    "#select.select_by_value(value='고리오')\n",
    "\n",
    "#생년\n",
    "select_year = Select(driver.find_element_by_name('bYear'))\n",
    "select_year.select_by_value(value='1994')\n",
    "#월\n",
    "select_month = Select(driver.find_element_by_name('bMonth'))\n",
    "select_month.select_by_value(value='11')\n",
    "#일\n",
    "select_day = Select(driver.find_element_by_name('bDay'))\n",
    "select_day.select_by_value(value='8')\n",
    "\n",
    "#태어난시간\n",
    "select_hour = Select(driver.find_element_by_name('bHour'))\n",
    "select_hour.select_by_index(index=6)\n",
    "# 0,1,4,5,6,7,10 / 2,3,8,9,11 / 12\n",
    "\n",
    "#양력/음력\n",
    "select_lunar = Select(driver.find_element_by_name('bLunar'))\n",
    "select_lunar.select_by_index(index=0)\n",
    "\n",
    "#운세보기 클릭\n",
    "fortune = driver.find_element_by_xpath('//*[@id=\"wrap2\"]/form/div/div[2]/div/div/input')\n",
    "fortune.click()\n",
    "\n",
    "#class name을 통한 element 접근하기\n",
    "# 외모\n",
    "elem1 = driver.find_elements_by_xpath('//*[@id=\"ConsResult\"]/div[3]/p')\n",
    "print(\"외모\")\n",
    "print(\"=\"*100)\n",
    "print(elem1)\n",
    "print(\"=\"*100)\n",
    "# 성격\n",
    "elem2 = driver.find_elements_by_xpath('//*[@id=\"ConsResult\"]/div[4]/p')\n",
    "print(\"성격\")\n",
    "print(\"=\"*100)\n",
    "print(elem2)\n",
    "print(\"=\"*100)\n",
    "\n"
   ]
  },
  {
   "cell_type": "code",
   "execution_count": 5,
   "id": "a34c20c8",
   "metadata": {},
   "outputs": [
    {
     "name": "stdout",
     "output_type": "stream",
     "text": [
      "['키가 작고 통통하네요', '관능적인 매력 보다는 모성적인 모습과 귀여운 외모로 더 어필하는 스타일입니다', '얼굴이 좀 큰 편이며 눈이 선하고 예쁩니다', '입술이 도톰하여 웃을 때 모습이 더욱 예쁜 사람이네요', '손과 발이 복스럽게 통통하며 사회성 보다는 가정적인 모습과 조용한 모습을 더 좋아하지요', '머리를 기르지 못할 정도로 짧은 머리를 선호합니다', '지적이며 포근한 외모의 여성이네요']\n",
      "['사려 깊고 이해심이 많은 여성입니다', ' 여성적인 성향이 강하며 조용하게 대화하는 것을 즐기는 스타일이지요', ' 요란한 것을 싫어하고 새로운 사람과 어울리는 것에 대해 그다지 익숙하지 않습니다', ' 친구들이 많이 따르는 편이며 성격이 치우치지 않고 공정한 편입니다', ' 비교적 낙천적인 성격이어서 매사를 긍정적으로 보려는 노력을 하는군요', '']\n"
     ]
    }
   ],
   "source": [
    "#텍스트 split\n",
    "for td in elem1:\n",
    "    row = td.text\n",
    "    row_list1 = row.split(\"\\n\")\n",
    "    print(row_list1)\n",
    "for td2 in elem2:\n",
    "    row = td2.text\n",
    "    row_list2 = row.split(\".\")\n",
    "    print(row_list2)"
   ]
  },
  {
   "cell_type": "code",
   "execution_count": 6,
   "id": "56046de4",
   "metadata": {},
   "outputs": [],
   "source": [
    "import pandas as pd\n",
    "\n",
    "df1 = pd.DataFrame(row_list1)\n",
    "df2 = pd.DataFrame(row_list2)"
   ]
  },
  {
   "cell_type": "code",
   "execution_count": 7,
   "id": "a90c98fb",
   "metadata": {},
   "outputs": [],
   "source": [
    "df1.columns = ['외모']\n"
   ]
  },
  {
   "cell_type": "code",
   "execution_count": 8,
   "id": "b0c292ac",
   "metadata": {},
   "outputs": [],
   "source": [
    "df2.columns = ['성격']\n"
   ]
  },
  {
   "cell_type": "code",
   "execution_count": 9,
   "id": "24cdb73b",
   "metadata": {},
   "outputs": [
    {
     "data": {
      "text/html": [
       "<div>\n",
       "<style scoped>\n",
       "    .dataframe tbody tr th:only-of-type {\n",
       "        vertical-align: middle;\n",
       "    }\n",
       "\n",
       "    .dataframe tbody tr th {\n",
       "        vertical-align: top;\n",
       "    }\n",
       "\n",
       "    .dataframe thead th {\n",
       "        text-align: right;\n",
       "    }\n",
       "</style>\n",
       "<table border=\"1\" class=\"dataframe\">\n",
       "  <thead>\n",
       "    <tr style=\"text-align: right;\">\n",
       "      <th></th>\n",
       "      <th>외모</th>\n",
       "    </tr>\n",
       "  </thead>\n",
       "  <tbody>\n",
       "    <tr>\n",
       "      <th>0</th>\n",
       "      <td>키가 작고 통통하네요</td>\n",
       "    </tr>\n",
       "    <tr>\n",
       "      <th>1</th>\n",
       "      <td>관능적인 매력 보다는 모성적인 모습과 귀여운 외모로 더 어필하는 스타일입니다</td>\n",
       "    </tr>\n",
       "    <tr>\n",
       "      <th>2</th>\n",
       "      <td>얼굴이 좀 큰 편이며 눈이 선하고 예쁩니다</td>\n",
       "    </tr>\n",
       "    <tr>\n",
       "      <th>3</th>\n",
       "      <td>입술이 도톰하여 웃을 때 모습이 더욱 예쁜 사람이네요</td>\n",
       "    </tr>\n",
       "    <tr>\n",
       "      <th>4</th>\n",
       "      <td>손과 발이 복스럽게 통통하며 사회성 보다는 가정적인 모습과 조용한 모습을 더 좋아하지요</td>\n",
       "    </tr>\n",
       "    <tr>\n",
       "      <th>5</th>\n",
       "      <td>머리를 기르지 못할 정도로 짧은 머리를 선호합니다</td>\n",
       "    </tr>\n",
       "    <tr>\n",
       "      <th>6</th>\n",
       "      <td>지적이며 포근한 외모의 여성이네요</td>\n",
       "    </tr>\n",
       "  </tbody>\n",
       "</table>\n",
       "</div>"
      ],
      "text/plain": [
       "                                                 외모\n",
       "0                                       키가 작고 통통하네요\n",
       "1        관능적인 매력 보다는 모성적인 모습과 귀여운 외모로 더 어필하는 스타일입니다\n",
       "2                           얼굴이 좀 큰 편이며 눈이 선하고 예쁩니다\n",
       "3                     입술이 도톰하여 웃을 때 모습이 더욱 예쁜 사람이네요\n",
       "4  손과 발이 복스럽게 통통하며 사회성 보다는 가정적인 모습과 조용한 모습을 더 좋아하지요\n",
       "5                       머리를 기르지 못할 정도로 짧은 머리를 선호합니다\n",
       "6                                지적이며 포근한 외모의 여성이네요"
      ]
     },
     "execution_count": 9,
     "metadata": {},
     "output_type": "execute_result"
    }
   ],
   "source": [
    "df1"
   ]
  },
  {
   "cell_type": "code",
   "execution_count": 10,
   "id": "55975b82",
   "metadata": {
    "scrolled": true
   },
   "outputs": [
    {
     "data": {
      "text/html": [
       "<div>\n",
       "<style scoped>\n",
       "    .dataframe tbody tr th:only-of-type {\n",
       "        vertical-align: middle;\n",
       "    }\n",
       "\n",
       "    .dataframe tbody tr th {\n",
       "        vertical-align: top;\n",
       "    }\n",
       "\n",
       "    .dataframe thead th {\n",
       "        text-align: right;\n",
       "    }\n",
       "</style>\n",
       "<table border=\"1\" class=\"dataframe\">\n",
       "  <thead>\n",
       "    <tr style=\"text-align: right;\">\n",
       "      <th></th>\n",
       "      <th>성격</th>\n",
       "    </tr>\n",
       "  </thead>\n",
       "  <tbody>\n",
       "    <tr>\n",
       "      <th>0</th>\n",
       "      <td>사려 깊고 이해심이 많은 여성입니다</td>\n",
       "    </tr>\n",
       "    <tr>\n",
       "      <th>1</th>\n",
       "      <td>여성적인 성향이 강하며 조용하게 대화하는 것을 즐기는 스타일이지요</td>\n",
       "    </tr>\n",
       "    <tr>\n",
       "      <th>2</th>\n",
       "      <td>요란한 것을 싫어하고 새로운 사람과 어울리는 것에 대해 그다지 익숙하지 않습니다</td>\n",
       "    </tr>\n",
       "    <tr>\n",
       "      <th>3</th>\n",
       "      <td>친구들이 많이 따르는 편이며 성격이 치우치지 않고 공정한 편입니다</td>\n",
       "    </tr>\n",
       "    <tr>\n",
       "      <th>4</th>\n",
       "      <td>비교적 낙천적인 성격이어서 매사를 긍정적으로 보려는 노력을 하는군요</td>\n",
       "    </tr>\n",
       "    <tr>\n",
       "      <th>5</th>\n",
       "      <td></td>\n",
       "    </tr>\n",
       "  </tbody>\n",
       "</table>\n",
       "</div>"
      ],
      "text/plain": [
       "                                              성격\n",
       "0                            사려 깊고 이해심이 많은 여성입니다\n",
       "1           여성적인 성향이 강하며 조용하게 대화하는 것을 즐기는 스타일이지요\n",
       "2   요란한 것을 싫어하고 새로운 사람과 어울리는 것에 대해 그다지 익숙하지 않습니다\n",
       "3           친구들이 많이 따르는 편이며 성격이 치우치지 않고 공정한 편입니다\n",
       "4          비교적 낙천적인 성격이어서 매사를 긍정적으로 보려는 노력을 하는군요\n",
       "5                                               "
      ]
     },
     "execution_count": 10,
     "metadata": {},
     "output_type": "execute_result"
    }
   ],
   "source": [
    "df2"
   ]
  },
  {
   "cell_type": "code",
   "execution_count": 11,
   "id": "f4660714",
   "metadata": {},
   "outputs": [],
   "source": [
    "result = pd.concat([df1,df2],axis=1)\n"
   ]
  },
  {
   "cell_type": "code",
   "execution_count": 12,
   "id": "c53531c1",
   "metadata": {},
   "outputs": [
    {
     "data": {
      "text/html": [
       "<div>\n",
       "<style scoped>\n",
       "    .dataframe tbody tr th:only-of-type {\n",
       "        vertical-align: middle;\n",
       "    }\n",
       "\n",
       "    .dataframe tbody tr th {\n",
       "        vertical-align: top;\n",
       "    }\n",
       "\n",
       "    .dataframe thead th {\n",
       "        text-align: right;\n",
       "    }\n",
       "</style>\n",
       "<table border=\"1\" class=\"dataframe\">\n",
       "  <thead>\n",
       "    <tr style=\"text-align: right;\">\n",
       "      <th></th>\n",
       "      <th>외모</th>\n",
       "      <th>성격</th>\n",
       "    </tr>\n",
       "  </thead>\n",
       "  <tbody>\n",
       "    <tr>\n",
       "      <th>0</th>\n",
       "      <td>키가 작고 통통하네요</td>\n",
       "      <td>사려 깊고 이해심이 많은 여성입니다</td>\n",
       "    </tr>\n",
       "    <tr>\n",
       "      <th>1</th>\n",
       "      <td>관능적인 매력 보다는 모성적인 모습과 귀여운 외모로 더 어필하는 스타일입니다</td>\n",
       "      <td>여성적인 성향이 강하며 조용하게 대화하는 것을 즐기는 스타일이지요</td>\n",
       "    </tr>\n",
       "    <tr>\n",
       "      <th>2</th>\n",
       "      <td>얼굴이 좀 큰 편이며 눈이 선하고 예쁩니다</td>\n",
       "      <td>요란한 것을 싫어하고 새로운 사람과 어울리는 것에 대해 그다지 익숙하지 않습니다</td>\n",
       "    </tr>\n",
       "    <tr>\n",
       "      <th>3</th>\n",
       "      <td>입술이 도톰하여 웃을 때 모습이 더욱 예쁜 사람이네요</td>\n",
       "      <td>친구들이 많이 따르는 편이며 성격이 치우치지 않고 공정한 편입니다</td>\n",
       "    </tr>\n",
       "    <tr>\n",
       "      <th>4</th>\n",
       "      <td>손과 발이 복스럽게 통통하며 사회성 보다는 가정적인 모습과 조용한 모습을 더 좋아하지요</td>\n",
       "      <td>비교적 낙천적인 성격이어서 매사를 긍정적으로 보려는 노력을 하는군요</td>\n",
       "    </tr>\n",
       "    <tr>\n",
       "      <th>5</th>\n",
       "      <td>머리를 기르지 못할 정도로 짧은 머리를 선호합니다</td>\n",
       "      <td></td>\n",
       "    </tr>\n",
       "    <tr>\n",
       "      <th>6</th>\n",
       "      <td>지적이며 포근한 외모의 여성이네요</td>\n",
       "      <td>NaN</td>\n",
       "    </tr>\n",
       "  </tbody>\n",
       "</table>\n",
       "</div>"
      ],
      "text/plain": [
       "                                                 외모  \\\n",
       "0                                       키가 작고 통통하네요   \n",
       "1        관능적인 매력 보다는 모성적인 모습과 귀여운 외모로 더 어필하는 스타일입니다   \n",
       "2                           얼굴이 좀 큰 편이며 눈이 선하고 예쁩니다   \n",
       "3                     입술이 도톰하여 웃을 때 모습이 더욱 예쁜 사람이네요   \n",
       "4  손과 발이 복스럽게 통통하며 사회성 보다는 가정적인 모습과 조용한 모습을 더 좋아하지요   \n",
       "5                       머리를 기르지 못할 정도로 짧은 머리를 선호합니다   \n",
       "6                                지적이며 포근한 외모의 여성이네요   \n",
       "\n",
       "                                              성격  \n",
       "0                            사려 깊고 이해심이 많은 여성입니다  \n",
       "1           여성적인 성향이 강하며 조용하게 대화하는 것을 즐기는 스타일이지요  \n",
       "2   요란한 것을 싫어하고 새로운 사람과 어울리는 것에 대해 그다지 익숙하지 않습니다  \n",
       "3           친구들이 많이 따르는 편이며 성격이 치우치지 않고 공정한 편입니다  \n",
       "4          비교적 낙천적인 성격이어서 매사를 긍정적으로 보려는 노력을 하는군요  \n",
       "5                                                 \n",
       "6                                            NaN  "
      ]
     },
     "execution_count": 12,
     "metadata": {},
     "output_type": "execute_result"
    }
   ],
   "source": [
    "result"
   ]
  },
  {
   "cell_type": "code",
   "execution_count": 34,
   "id": "9f1bc9e9",
   "metadata": {},
   "outputs": [],
   "source": [
    "result.to_csv(\"사주팔자연습.csv\", mode='a', header=False)"
   ]
  },
  {
   "cell_type": "code",
   "execution_count": 13,
   "id": "67c4a166",
   "metadata": {},
   "outputs": [
    {
     "data": {
      "text/plain": [
       "'키가 작고 통통하네요관능적인 매력 보다는 모성적인 모습과 귀여운 외모로 더 어필하는 스타일입니다얼굴이 좀 큰 편이며 눈이 선하고 예쁩니다입술이 도톰하여 웃을 때 모습이 더욱 예쁜 사람이네요손과 발이 복스럽게 통통하며 사회성 보다는 가정적인 모습과 조용한 모습을 더 좋아하지요머리를 기르지 못할 정도로 짧은 머리를 선호합니다지적이며 포근한 외모의 여성이네요'"
      ]
     },
     "execution_count": 13,
     "metadata": {},
     "output_type": "execute_result"
    }
   ],
   "source": [
    "merge = \"\"\n",
    "for i in result['외모']:\n",
    "    merge = merge + i\n",
    "merge"
   ]
  },
  {
   "cell_type": "code",
   "execution_count": 15,
   "id": "92bb05d3",
   "metadata": {
    "scrolled": false
   },
   "outputs": [],
   "source": [
    "#!pip install konlpy\n",
    "#!pip install wordcloud"
   ]
  },
  {
   "cell_type": "code",
   "execution_count": 16,
   "id": "a67ca301",
   "metadata": {},
   "outputs": [],
   "source": [
    "from konlpy.tag import Okt\n",
    "from collections import Counter\n",
    "from wordcloud import WordCloud"
   ]
  },
  {
   "cell_type": "code",
   "execution_count": 28,
   "id": "1ba4aad3",
   "metadata": {},
   "outputs": [],
   "source": [
    "from matplotlib import font_manager, rc\n",
    "font_name = font_manager.FontProperties(fname=\"c:/Windows/Fonts/malgun.ttf\").get_name()\n",
    "rc('font', family=font_name)"
   ]
  },
  {
   "cell_type": "code",
   "execution_count": 20,
   "id": "9fa5e867",
   "metadata": {},
   "outputs": [],
   "source": [
    "def get_noun(news):\n",
    "    \n",
    "    okt = Okt()\n",
    "    noun = okt.nouns(news)\n",
    "    noun = [n for n in noun if len(n) > 1 ]\n",
    "    \n",
    "    count =Counter(noun)\n",
    "    noun_list = count.most_common(50)\n",
    "    \n",
    "    return noun_list\n"
   ]
  },
  {
   "cell_type": "code",
   "execution_count": 31,
   "id": "80a03267",
   "metadata": {},
   "outputs": [],
   "source": [
    "def visualize(noun_list):\n",
    "    \n",
    "    wc = WordCloud(font_path='malgun.ttf',\\\n",
    "        background_color=\"white\",\\\n",
    "        width=1000,\\\n",
    "        height=1000,\\\n",
    "        max_words=100,\\\n",
    "        max_font_size=300)\n",
    "    \n",
    "    wc.generate_from_frequencies(dict(noun_list))\n",
    "    wc.to_file('keyword.png')\n",
    "    \n"
   ]
  },
  {
   "cell_type": "code",
   "execution_count": 33,
   "id": "559c3a69",
   "metadata": {},
   "outputs": [],
   "source": [
    "noun_list = get_noun(merge)\n",
    "visualize(noun_list)"
   ]
  },
  {
   "cell_type": "code",
   "execution_count": null,
   "id": "f98f063f",
   "metadata": {},
   "outputs": [],
   "source": [
    "# 형태소 분석\n",
    "    # 1. 크롤링한 파일을 읽기전용으로 호출함\n",
    "    # 2. 형태소 검출가공을 위해 변수에 전체를 다시저장\n",
    "    # 3. konlpy 모듈호출 및 객체생성\n",
    "    # 4. 각 문장별(for문 사용)로 형태소구분 및 품사매칭 (koLNPy함수)\n",
    "    # 5. 명사나 형용사만 선별해 리스트에 담기\n",
    "    # 6. 선별된 품사별 빈도수 계산 & 상위 빈도 10위 까지 출력\n"
   ]
  },
  {
   "cell_type": "code",
   "execution_count": 39,
   "id": "e3ff21c9",
   "metadata": {},
   "outputs": [
    {
     "name": "stdout",
     "output_type": "stream",
     "text": [
      "[('0', 'Number'), (',', 'Punctuation'), ('키', 'Noun'), ('가', 'Josa'), ('작고', 'Noun'), ('통통하네요', 'Adjective'), (',', 'Punctuation'), ('사려', 'Noun'), ('깊고', 'Adjective'), ('이', 'Determiner'), ('해심', 'Noun'), ('이', 'Josa'), ('많은', 'Adjective'), ('여성', 'Noun'), ('입니다', 'Adjective'), ('\\n', 'Foreign')]\n",
      "------------------------------\n",
      "[('1', 'Number'), (',', 'Punctuation'), ('관능', 'Noun'), ('적', 'Suffix'), ('인', 'Josa'), ('매력', 'Noun'), ('보다는', 'Josa'), ('모', 'Modifier'), ('성적', 'Noun'), ('인', 'Josa'), ('모습', 'Noun'), ('과', 'Josa'), ('귀여운', 'Adjective'), ('외모', 'Noun'), ('로', 'Josa'), ('더', 'Noun'), ('어필', 'Noun'), ('하는', 'Verb'), ('스타일', 'Noun'), ('입니다', 'Adjective'), (',', 'Punctuation'), ('여성', 'Noun'), ('적', 'Suffix'), ('인', 'Josa'), ('성향', 'Noun'), ('이', 'Josa'), ('강하며', 'Adjective'), ('조용하게', 'Adjective'), ('대화', 'Noun'), ('하는', 'Verb'), ('것', 'Noun'), ('을', 'Josa'), ('즐기는', 'Verb'), ('스타일', 'Noun'), ('이지', 'Noun'), ('요', 'Josa'), ('\\n', 'Foreign')]\n",
      "------------------------------\n",
      "[('2', 'Number'), (',', 'Punctuation'), ('얼굴', 'Noun'), ('이', 'Josa'), ('좀', 'Noun'), ('큰', 'Verb'), ('편이', 'Noun'), ('며', 'Josa'), ('눈', 'Noun'), ('이', 'Josa'), ('선하고', 'Adjective'), ('예쁩니다', 'Adjective'), (',', 'Punctuation'), ('요란한', 'Adjective'), ('것', 'Noun'), ('을', 'Josa'), ('싫어하고', 'Adjective'), ('새로운', 'Adjective'), ('사람과', 'Noun'), ('어울리는', 'Verb'), ('것', 'Noun'), ('에', 'Josa'), ('대해', 'Noun'), ('그다지', 'Noun'), ('익숙하지', 'Adjective'), ('않습니다', 'Verb'), ('\\n', 'Foreign')]\n",
      "------------------------------\n",
      "[('3', 'Number'), (',', 'Punctuation'), ('입술', 'Noun'), ('이', 'Josa'), ('도톰하여', 'Adjective'), ('웃', 'Noun'), ('을', 'Josa'), ('때', 'Noun'), ('모습', 'Noun'), ('이', 'Josa'), ('더욱', 'Noun'), ('예쁜', 'Adjective'), ('사람', 'Noun'), ('이네', 'Josa'), ('요', 'Noun'), (',', 'Punctuation'), ('친구', 'Noun'), ('들', 'Suffix'), ('이', 'Josa'), ('많이', 'Adverb'), ('따르는', 'Verb'), ('편이', 'Noun'), ('며', 'Josa'), ('성격', 'Noun'), ('이', 'Josa'), ('치우치지', 'Verb'), ('않고', 'Verb'), ('공정한', 'Adjective'), ('편입', 'Noun'), ('니', 'Noun'), ('다', 'Josa'), ('\\n', 'Foreign')]\n",
      "------------------------------\n",
      "[('4', 'Number'), (',', 'Punctuation'), ('손', 'Noun'), ('과', 'Josa'), ('발', 'Noun'), ('이', 'Josa'), ('복', 'Noun'), ('스럽게', 'Josa'), ('통통하며', 'Adjective'), ('사회', 'Noun'), ('성', 'Suffix'), ('보다는', 'Josa'), ('가정', 'Noun'), ('적', 'Suffix'), ('인', 'Josa'), ('모습', 'Noun'), ('과', 'Josa'), ('조용한', 'Adjective'), ('모습', 'Noun'), ('을', 'Josa'), ('더', 'Noun'), ('좋아하지요', 'Adjective'), (',', 'Punctuation'), ('비교', 'Noun'), ('적', 'Suffix'), ('낙천', 'Noun'), ('적', 'Suffix'), ('인', 'Josa'), ('성격', 'Noun'), ('이어서', 'Josa'), ('매사', 'Noun'), ('를', 'Josa'), ('긍정', 'Noun'), ('적', 'Suffix'), ('으로', 'Josa'), ('보려는', 'Verb'), ('노력', 'Noun'), ('을', 'Josa'), ('하는군요', 'Verb'), ('\\n', 'Foreign')]\n",
      "------------------------------\n",
      "[('5', 'Number'), (',', 'Punctuation'), ('머리', 'Noun'), ('를', 'Josa'), ('기르지', 'Verb'), ('못', 'VerbPrefix'), ('할', 'Verb'), ('정도', 'Noun'), ('로', 'Josa'), ('짧은', 'Adjective'), ('머리', 'Noun'), ('를', 'Josa'), ('선호', 'Noun'), ('합니다', 'Verb'), (',', 'Punctuation'), ('\\n', 'Foreign')]\n",
      "------------------------------\n",
      "[('6', 'Number'), (',', 'Punctuation'), ('지적', 'Noun'), ('이며', 'Josa'), ('포근한', 'Adjective'), ('외모', 'Noun'), ('의', 'Josa'), ('여성', 'Noun'), ('이네', 'Josa'), ('요', 'Noun'), (',', 'Punctuation'), ('\\n', 'Foreign')]\n",
      "------------------------------\n",
      "[[('0', 'Number'), (',', 'Punctuation'), ('키', 'Noun'), ('가', 'Josa'), ('작고', 'Noun'), ('통통하네요', 'Adjective'), (',', 'Punctuation'), ('사려', 'Noun'), ('깊고', 'Adjective'), ('이', 'Determiner'), ('해심', 'Noun'), ('이', 'Josa'), ('많은', 'Adjective'), ('여성', 'Noun'), ('입니다', 'Adjective'), ('\\n', 'Foreign')], [('1', 'Number'), (',', 'Punctuation'), ('관능', 'Noun'), ('적', 'Suffix'), ('인', 'Josa'), ('매력', 'Noun'), ('보다는', 'Josa'), ('모', 'Modifier'), ('성적', 'Noun'), ('인', 'Josa'), ('모습', 'Noun'), ('과', 'Josa'), ('귀여운', 'Adjective'), ('외모', 'Noun'), ('로', 'Josa'), ('더', 'Noun'), ('어필', 'Noun'), ('하는', 'Verb'), ('스타일', 'Noun'), ('입니다', 'Adjective'), (',', 'Punctuation'), ('여성', 'Noun'), ('적', 'Suffix'), ('인', 'Josa'), ('성향', 'Noun'), ('이', 'Josa'), ('강하며', 'Adjective'), ('조용하게', 'Adjective'), ('대화', 'Noun'), ('하는', 'Verb'), ('것', 'Noun'), ('을', 'Josa'), ('즐기는', 'Verb'), ('스타일', 'Noun'), ('이지', 'Noun'), ('요', 'Josa'), ('\\n', 'Foreign')], [('2', 'Number'), (',', 'Punctuation'), ('얼굴', 'Noun'), ('이', 'Josa'), ('좀', 'Noun'), ('큰', 'Verb'), ('편이', 'Noun'), ('며', 'Josa'), ('눈', 'Noun'), ('이', 'Josa'), ('선하고', 'Adjective'), ('예쁩니다', 'Adjective'), (',', 'Punctuation'), ('요란한', 'Adjective'), ('것', 'Noun'), ('을', 'Josa'), ('싫어하고', 'Adjective'), ('새로운', 'Adjective'), ('사람과', 'Noun'), ('어울리는', 'Verb'), ('것', 'Noun'), ('에', 'Josa'), ('대해', 'Noun'), ('그다지', 'Noun'), ('익숙하지', 'Adjective'), ('않습니다', 'Verb'), ('\\n', 'Foreign')], [('3', 'Number'), (',', 'Punctuation'), ('입술', 'Noun'), ('이', 'Josa'), ('도톰하여', 'Adjective'), ('웃', 'Noun'), ('을', 'Josa'), ('때', 'Noun'), ('모습', 'Noun'), ('이', 'Josa'), ('더욱', 'Noun'), ('예쁜', 'Adjective'), ('사람', 'Noun'), ('이네', 'Josa'), ('요', 'Noun'), (',', 'Punctuation'), ('친구', 'Noun'), ('들', 'Suffix'), ('이', 'Josa'), ('많이', 'Adverb'), ('따르는', 'Verb'), ('편이', 'Noun'), ('며', 'Josa'), ('성격', 'Noun'), ('이', 'Josa'), ('치우치지', 'Verb'), ('않고', 'Verb'), ('공정한', 'Adjective'), ('편입', 'Noun'), ('니', 'Noun'), ('다', 'Josa'), ('\\n', 'Foreign')], [('4', 'Number'), (',', 'Punctuation'), ('손', 'Noun'), ('과', 'Josa'), ('발', 'Noun'), ('이', 'Josa'), ('복', 'Noun'), ('스럽게', 'Josa'), ('통통하며', 'Adjective'), ('사회', 'Noun'), ('성', 'Suffix'), ('보다는', 'Josa'), ('가정', 'Noun'), ('적', 'Suffix'), ('인', 'Josa'), ('모습', 'Noun'), ('과', 'Josa'), ('조용한', 'Adjective'), ('모습', 'Noun'), ('을', 'Josa'), ('더', 'Noun'), ('좋아하지요', 'Adjective'), (',', 'Punctuation'), ('비교', 'Noun'), ('적', 'Suffix'), ('낙천', 'Noun'), ('적', 'Suffix'), ('인', 'Josa'), ('성격', 'Noun'), ('이어서', 'Josa'), ('매사', 'Noun'), ('를', 'Josa'), ('긍정', 'Noun'), ('적', 'Suffix'), ('으로', 'Josa'), ('보려는', 'Verb'), ('노력', 'Noun'), ('을', 'Josa'), ('하는군요', 'Verb'), ('\\n', 'Foreign')], [('5', 'Number'), (',', 'Punctuation'), ('머리', 'Noun'), ('를', 'Josa'), ('기르지', 'Verb'), ('못', 'VerbPrefix'), ('할', 'Verb'), ('정도', 'Noun'), ('로', 'Josa'), ('짧은', 'Adjective'), ('머리', 'Noun'), ('를', 'Josa'), ('선호', 'Noun'), ('합니다', 'Verb'), (',', 'Punctuation'), ('\\n', 'Foreign')], [('6', 'Number'), (',', 'Punctuation'), ('지적', 'Noun'), ('이며', 'Josa'), ('포근한', 'Adjective'), ('외모', 'Noun'), ('의', 'Josa'), ('여성', 'Noun'), ('이네', 'Josa'), ('요', 'Noun'), (',', 'Punctuation'), ('\\n', 'Foreign')]]\n",
      "7\n",
      "\n",
      "\n",
      "\n",
      "\n",
      "[('모습', 4), ('여성', 3), ('것', 3), ('입니다', 2), ('외모', 2), ('더', 2), ('스타일', 2), ('편이', 2), ('요', 2), ('성격', 2)]\n"
     ]
    }
   ],
   "source": [
    "from collections import Counter\n",
    "\n",
    "# 1. 크롤링한 파일을 읽기전용으로 호출함\n",
    "file = open('사주팔자연습.csv','r',encoding='utf-8')\n",
    "lines = file.readlines()\n",
    "\n",
    "# 2. 변수 okja에 전체댓글을 다시저장\n",
    "saju = []\n",
    "for line in lines:\n",
    "    saju.append(line)\n",
    "file.close()\n",
    "\n",
    "# 3. 트윗터 패키지 안에 konlpy 모듈호출\n",
    "from konlpy.tag import Twitter\n",
    "twitter = Twitter()\n",
    "\n",
    "\n",
    "\n",
    "# 4. 각 문장별로 형태소 구분하기\n",
    "sentences_tag = []\n",
    "for sentence in saju:\n",
    "    morph = twitter.pos(sentence)\n",
    "    sentences_tag.append(morph)\n",
    "    print(morph)\n",
    "    print('-'*30)\n",
    "\n",
    "print(sentences_tag)\n",
    "print(len(sentences_tag))\n",
    "print('\\n'*3)\n",
    "\n",
    "\n",
    "# 5. 명사 혹은 형용사인 품사만 선별해 리스트에 담기\n",
    "noun_adj_list = []\n",
    "for sentence1 in sentences_tag:\n",
    "    for word, tag in sentence1:\n",
    "        if tag in ['Noun','Adjective']:\n",
    "            noun_adj_list.append(word)\n",
    "\n",
    "# 6. 선별된 품사별 빈도수 계산 & 상위 빈도 10위 까지 출력\n",
    "counts = Counter(noun_adj_list)\n",
    "print(counts.most_common(10))\n"
   ]
  },
  {
   "attachments": {
    "image.png": {
     "image/png": "[encoded data removed]"
    }
   },
   "cell_type": "markdown",
   "id": "f0278377",
   "metadata": {},
   "source": [
    "![image.png](attachment:image.png)"
   ]
  },
  {
   "cell_type": "code",
   "execution_count": null,
   "id": "89c31612",
   "metadata": {},
   "outputs": [],
   "source": [
    "#"
   ]
  }
 ],
 "metadata": {
  "kernelspec": {
   "display_name": "Python 3",
   "language": "python",
   "name": "python3"
  },
  "language_info": {
   "codemirror_mode": {
    "name": "ipython",
    "version": 3
   },
   "file_extension": ".py",
   "mimetype": "text/x-python",
   "name": "python",
   "nbconvert_exporter": "python",
   "pygments_lexer": "ipython3",
   "version": "3.8.8"
  }
 },
 "nbformat": 4,
 "nbformat_minor": 5
}
